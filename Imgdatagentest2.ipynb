{
  "nbformat": 4,
  "nbformat_minor": 0,
  "metadata": {
    "colab": {
      "provenance": [],
      "mount_file_id": "1M-5M4SRCWmoNmdQ22Bfd2v1C9xyb5w3R",
      "authorship_tag": "ABX9TyNE9o8QPoL4IN9MJpxBR+r5",
      "include_colab_link": true
    },
    "kernelspec": {
      "name": "python3",
      "display_name": "Python 3"
    },
    "language_info": {
      "name": "python"
    }
  },
  "cells": [
    {
      "cell_type": "markdown",
      "metadata": {
        "id": "view-in-github",
        "colab_type": "text"
      },
      "source": [
        "<a href=\"https://colab.research.google.com/github/vinayakbs311/data_agumentation/blob/main/Imgdatagentest2.ipynb\" target=\"_parent\"><img src=\"https://colab.research.google.com/assets/colab-badge.svg\" alt=\"Open In Colab\"/></a>"
      ]
    },
    {
      "cell_type": "code",
      "execution_count": null,
      "metadata": {
        "colab": {
          "base_uri": "https://localhost:8080/"
        },
        "id": "QwMhtsCZ9pa_",
        "outputId": "a0e1a244-5919-4603-b55b-da407e7101f3"
      },
      "outputs": [
        {
          "output_type": "stream",
          "name": "stdout",
          "text": [
            "Drive already mounted at /content/drive; to attempt to forcibly remount, call drive.mount(\"/content/drive\", force_remount=True).\n"
          ]
        }
      ],
      "source": [
        "from google.colab import drive\n",
        "drive.mount('/content/drive')"
      ]
    },
    {
      "cell_type": "code",
      "source": [
        "import keras\n",
        "import cv2\n",
        "import os\n",
        "import glob\n",
        "from keras.preprocessing.image import ImageDataGenerator\n",
        "from skimage import io\n",
        "import numpy as np\n",
        "from PIL import Image"
      ],
      "metadata": {
        "id": "RUK-lpK_9z7R"
      },
      "execution_count": null,
      "outputs": []
    },
    {
      "cell_type": "code",
      "source": [
        "datagen = ImageDataGenerator(        \n",
        "        rotation_range = 2,\n",
        "        shear_range = 0.2,\n",
        "        zoom_range = 0.2,\n",
        "        horizontal_flip = True,\n",
        "        brightness_range = (0.5, 1.5))"
      ],
      "metadata": {
        "id": "kkxUN_xu9-AZ"
      },
      "execution_count": null,
      "outputs": []
    },
    {
      "cell_type": "code",
      "source": [
        "#image_directory = r'/content/drive/MyDrive/Aug_Input_img/'\n",
        "#image_directory = r'/content/drive/MyDrive/My_Samples_640x480/'\n",
        "image_directory = r'/content/drive/MyDrive/bgimages_640x480/'\n",
        "\n",
        "Width = 640\n",
        "Height = 480\n",
        "dataset = []\n",
        "my_images = os.listdir(image_directory)\n",
        "for i, image_name in enumerate(my_images):    \n",
        "    if (image_name.split('.')[1] == 'jpg'):        \n",
        "        image = io.imread(image_directory + image_name)        \n",
        "        image = Image.fromarray(image, 'RGB')\n",
        "        #image = Image.fromarray(image, 'L')        \n",
        "        image = image.resize((Width,Height)) \n",
        "        dataset.append(np.array(image))"
      ],
      "metadata": {
        "id": "X6o0rcKX-CPT"
      },
      "execution_count": null,
      "outputs": []
    },
    {
      "cell_type": "code",
      "source": [
        "x = np.array(dataset)\n",
        "i = 0\n",
        "for batch in datagen.flow(x, batch_size=94, #batch size to get number of agumented images\n",
        "                          #save_to_dir= r'/content/drive/MyDrive/Img-Aug_result/',\n",
        "                          #save_to_dir= r'/content/drive/MyDrive/My_Samples_640x480_Aug',\n",
        "                          save_to_dir= r'/content/drive/MyDrive/Aug_bgimages_640x480', \n",
        "                          save_prefix='Aug',save_format='jpg'):    \n",
        "    i += 1    \n",
        "    if i > 5:        \n",
        "        break   # break loop after achieving 5 samples"
      ],
      "metadata": {
        "id": "Xo_blxtc-1vX"
      },
      "execution_count": null,
      "outputs": []
    }
  ]
}